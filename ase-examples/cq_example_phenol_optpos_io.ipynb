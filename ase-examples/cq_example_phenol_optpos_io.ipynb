{
 "cells": [
  {
   "cell_type": "markdown",
   "metadata": {},
   "source": [
    "## IO example for  phenol atomic positions optimization (in a box) using Conquest\n",
    "> The objective is to use ASE for pre-process (building the **I**nput files) and\n",
    "> post-process (having the **O**utput file) a Conquest calculation. \n",
    "> The calculation *must* be run at hand,\n",
    "> that is, the calculation is not launched by ASE."
   ]
  },
  {
   "cell_type": "markdown",
   "metadata": {},
   "source": [
    "<div class=\"alert alert-block alert-danger\">\n",
    "    <b>WARNING:</b> IO example requirements\n",
    "</div>    \n",
    "\n",
    "> `ASE version = 3.20.0b1` including `Conquest`\n"
   ]
  },
  {
   "cell_type": "code",
   "execution_count": 1,
   "metadata": {},
   "outputs": [],
   "source": [
    "import os\n",
    "import shutil\n",
    "import subprocess\n",
    "import matplotlib.pyplot as plt\n",
    "\n",
    "from distutils.spawn import find_executable\n",
    "from numpy import amax, amin, matmul, exp, pi, array, zeros, sqrt\n",
    "from scipy.constants import Rydberg\n",
    "\n",
    "from ase.build import bulk\n",
    "from ase.calculators.conquest import Conquest\n",
    "from ase.io.conquest_f_rework_output_ase import read_conquest, read_conquest_out\n",
    "from ase.io.conquest_f_rework_output_ase import Conquest_orthorhombic_check\n",
    "from ase.units import Rydberg\n",
    "\n",
    "from ase.dft.bandgap import bandgap\n",
    "from ase.io import read\n",
    "\n",
    "from ase import Atoms\n",
    "from ase.spacegroup import crystal\n",
    "\n",
    "from cq_ase_external_lib import print_struct_data\n",
    "from cq_ase_external_lib import print_occ, get_gapwind\n",
    "from cq_ase_external_lib import cq_postproc_xsf, cq_print_output_data\n"
   ]
  },
  {
   "cell_type": "code",
   "execution_count": 2,
   "metadata": {},
   "outputs": [
    {
     "name": "stdout",
     "output_type": "stream",
     "text": [
      "ase-3.20.0b1_cq\n"
     ]
    }
   ],
   "source": [
    "%%bash \n",
    "ase --version"
   ]
  },
  {
   "cell_type": "markdown",
   "metadata": {},
   "source": [
    "#### Check if visualisation tools are installed"
   ]
  },
  {
   "cell_type": "code",
   "execution_count": 4,
   "metadata": {},
   "outputs": [
    {
     "name": "stdout",
     "output_type": "stream",
     "text": [
      "xcrysden found\n",
      "VESTA found\n",
      "VMDLauncher not found\n"
     ]
    }
   ],
   "source": [
    "# Add exe name \n",
    "cmd_vis = {'xcrysden' : False}\n",
    "\n",
    "for cmd, state in cmd_vis.items():\n",
    "    if ( not shutil.which(cmd) ):\n",
    "        print('{} not found'.format(cmd))\n",
    "    else:\n",
    "        print('{} found'.format(cmd))   \n",
    "        cmd_vis[cmd] = True\n",
    "        \n",
    "# For MacOSX add the path of the name of the app\n",
    "cmd_app = {'VESTA'      : '/Applications/VESTA/VESTA.app/Contents/MacOS/VESTA',\n",
    "           'VMDLauncher': '/Applications/VMD_1.9.2.app/Contents/MacOS/VMDLauncher'}\n",
    "\n",
    "for cmd, path in cmd_app.items():\n",
    "    if ( not find_executable(path) ):\n",
    "        print('{} not found'.format(cmd))\n",
    "    else:\n",
    "        print('{} found'.format(cmd))   "
   ]
  },
  {
   "cell_type": "markdown",
   "metadata": {},
   "source": [
    "#### Define Conquest environment"
   ]
  },
  {
   "cell_type": "code",
   "execution_count": 5,
   "metadata": {},
   "outputs": [],
   "source": [
    "os.environ['ASE_CONQUEST_COMMAND'] = 'mpirun -np 4 /Users/lioneltruflandier/CONQUEST-release-f-rework-output-ase/src/Conquest'\n",
    "os.environ['CQ_PP_PATH'] = '/Users/lioneltruflandier/Conquest-develop-outdated/pseudo-and-pao'\n",
    "os.environ['CQ_GEN_BASIS_CMD'] = '/Users/lioneltruflandier/CONQUEST-release-develop/tools/BasisGeneration/MakeIonFiles'"
   ]
  },
  {
   "cell_type": "markdown",
   "metadata": {},
   "source": [
    "#### Directory for storing calculation files"
   ]
  },
  {
   "cell_type": "code",
   "execution_count": 6,
   "metadata": {},
   "outputs": [],
   "source": [
    "working_directory = 'cq_example_phenol_optpos_io'\n",
    "\n",
    "# Test if `working_directory` exists ? If not create it\n",
    "if ( not os.path.isdir(working_directory) ):\n",
    "    os.makedirs(working_directory)"
   ]
  },
  {
   "cell_type": "markdown",
   "metadata": {},
   "source": [
    "####  Build ASE `Atoms` for C$_6$H$_{5}$OH in a box"
   ]
  },
  {
   "cell_type": "markdown",
   "metadata": {},
   "source": [
    "- Load structure of C$_6$H$_{5}$OH from `PDB` file "
   ]
  },
  {
   "cell_type": "code",
   "execution_count": 7,
   "metadata": {},
   "outputs": [
    {
     "name": "stdout",
     "output_type": "stream",
     "text": [
      "n atoms = 13 ?\n"
     ]
    }
   ],
   "source": [
    "struct = read('./struct/phenol.pdb',0)\n",
    "\n",
    "print('n atoms = {} ?'.format(len(struct)))"
   ]
  },
  {
   "cell_type": "markdown",
   "metadata": {},
   "source": [
    "- Cell parameters in Ang. and deg. [a, b, c, alpha, beta, gamma]. Cell size should be cubic $8\\times8\\times8$ Ang."
   ]
  },
  {
   "cell_type": "code",
   "execution_count": 8,
   "metadata": {},
   "outputs": [],
   "source": [
    "a = 10.0\n",
    "b = a\n",
    "c = a\n",
    "alpha = 90.0\n",
    "beta  = 90.0\n",
    "gamma = 90.0\n",
    "\n",
    "cell = [a,b,c,alpha,beta,gamma]\n"
   ]
  },
  {
   "cell_type": "markdown",
   "metadata": {},
   "source": [
    "- Generate the `Atoms`\n",
    " object and store in `struct` "
   ]
  },
  {
   "cell_type": "code",
   "execution_count": 9,
   "metadata": {},
   "outputs": [],
   "source": [
    "struct = Atoms(struct,cell=cell,pbc=[True,True,True])\n",
    "\n",
    "# Conquest can only handle orthorhombic cells\n",
    "struct = Conquest_orthorhombic_check(struct,verbose=True)"
   ]
  },
  {
   "cell_type": "markdown",
   "metadata": {},
   "source": [
    "- Extract and print main structural data from input structure `struct`"
   ]
  },
  {
   "cell_type": "code",
   "execution_count": 10,
   "metadata": {},
   "outputs": [
    {
     "name": "stdout",
     "output_type": "stream",
     "text": [
      "Cartesian atomic positions (Ang.)\n",
      "  C       0.000000      0.000000      0.000000\n",
      "  C       0.000000      0.000000      1.400000\n",
      "  C       1.212000      0.000000      2.100000\n",
      "  C       2.425000      0.000000      1.400000\n",
      "  C       2.425000      0.000000      0.000000\n",
      "  C       1.212000      0.000000     -0.700000\n",
      "  H      -0.943000      0.000000      1.944000\n",
      "  H       1.212000      0.000000      3.189000\n",
      "  H       3.368000      0.000000      1.944000\n",
      "  H       3.368000      0.000000     -0.545000\n",
      "  H       1.212000      0.000000     -1.789000\n",
      "  O      -1.224000     -0.021000     -0.679000\n",
      "  H      -1.067000     -0.018000     -1.615000\n",
      "\n",
      "Fractional atomic positions (Adim.)\n",
      "  C       0.000000      0.000000      0.000000\n",
      "  C       0.000000      0.000000      0.140000\n",
      "  C       0.121200      0.000000      0.210000\n",
      "  C       0.242500      0.000000      0.140000\n",
      "  C       0.242500      0.000000      0.000000\n",
      "  C       0.121200      0.000000     -0.070000\n",
      "  H      -0.094300      0.000000      0.194400\n",
      "  H       0.121200      0.000000      0.318900\n",
      "  H       0.336800      0.000000      0.194400\n",
      "  H       0.336800      0.000000     -0.054500\n",
      "  H       0.121200      0.000000     -0.178900\n",
      "  O      -0.122400     -0.002100     -0.067900\n",
      "  H      -0.106700     -0.001800     -0.161500\n",
      "\n",
      "Cell tensor (Ang.)\n",
      "         10.000000      0.000000      0.000000\n",
      "          0.000000     10.000000      0.000000\n",
      "          0.000000      0.000000     10.000000\n",
      "\n",
      "Cartesian atomic positions (Ang.) from cell tensor\n",
      "  C       0.000000      0.000000      0.000000\n",
      "  C       0.000000      0.000000      1.400000\n",
      "  C       1.212000      0.000000      2.100000\n",
      "  C       2.425000      0.000000      1.400000\n",
      "  C       2.425000      0.000000      0.000000\n",
      "  C       1.212000      0.000000     -0.700000\n",
      "  H      -0.943000      0.000000      1.944000\n",
      "  H       1.212000      0.000000      3.189000\n",
      "  H       3.368000      0.000000      1.944000\n",
      "  H       3.368000      0.000000     -0.545000\n",
      "  H       1.212000      0.000000     -1.789000\n",
      "  O      -1.224000     -0.021000     -0.679000\n",
      "  H      -1.067000     -0.018000     -1.615000\n",
      "\n",
      "Cell parameters (Ang. and degree)\n",
      "  a =      10.000000\n",
      "  b =      10.000000\n",
      "  c =      10.000000\n",
      "  alpha =  90.0000\n",
      "  beta  =  90.0000\n",
      "  gamma =  90.0000\n"
     ]
    }
   ],
   "source": [
    "print_struct_data(struct,verbose=1)"
   ]
  },
  {
   "cell_type": "markdown",
   "metadata": {},
   "source": [
    "- Save input `struct` in `CIF` and `XSF` format "
   ]
  },
  {
   "cell_type": "code",
   "execution_count": 11,
   "metadata": {},
   "outputs": [],
   "source": [
    "struct.write(working_directory+'/input.xsf')\n",
    "struct.write(working_directory+'/input.cif')"
   ]
  },
  {
   "cell_type": "markdown",
   "metadata": {},
   "source": [
    "- run `VESTA` to check input structure (if possible)"
   ]
  },
  {
   "cell_type": "code",
   "execution_count": 12,
   "metadata": {},
   "outputs": [],
   "source": [
    "if ( 'VESTA' in cmd_app ):\n",
    "    subprocess.run([cmd_app['VESTA'], working_directory+'/'+'input.cif'])"
   ]
  },
  {
   "cell_type": "markdown",
   "metadata": {},
   "source": [
    "#### Setup Conquest atomic basis set"
   ]
  },
  {
   "cell_type": "code",
   "execution_count": 13,
   "metadata": {},
   "outputs": [],
   "source": [
    "basis = {\n",
    "         'O' : { 'gen_basis'            : True,\n",
    "                 'basis_size'           : 'small',\n",
    "                 'pseudopotential_type' : 'hamann',\n",
    "                 'xc'                   : 'PBE' },             \n",
    "         'H' : { 'gen_basis'            : True,\n",
    "                 'basis_size'           : 'small',\n",
    "                 'pseudopotential_type' : 'hamann',\n",
    "                 'xc'                   : 'PBE' },\n",
    "         'C' : { 'gen_basis'            : True,\n",
    "                 'basis_size'           : 'small',\n",
    "                 'pseudopotential_type' : 'hamann',\n",
    "                 'xc'                   : 'PBE' },         \n",
    "          }\n",
    "\n",
    "#basis = {\n",
    "#         'O' : { 'file' : 'O.ion', 'pseudopotential_type' : 'siesta'},             \n",
    "#         'C' : { 'file' : 'C.ion', 'pseudopotential_type' : 'siesta'},             \n",
    "#         'H' : { 'file' : 'H.ion', 'pseudopotential_type' : 'siesta'}             \n",
    "#}"
   ]
  },
  {
   "cell_type": "markdown",
   "metadata": {},
   "source": [
    "#### Setup calculation using Conquest as calculator"
   ]
  },
  {
   "cell_type": "code",
   "execution_count": 14,
   "metadata": {},
   "outputs": [
    {
     "name": "stdout",
     "output_type": "stream",
     "text": [
      "input basis:\n",
      "O {'gen_basis': True, 'basis_size': 'small', 'pseudopotential_type': 'hamann', 'xc': 'PBE'}\n",
      "input basis:\n",
      "H {'gen_basis': True, 'basis_size': 'small', 'pseudopotential_type': 'hamann', 'xc': 'PBE'}\n",
      "input basis:\n",
      "C {'gen_basis': True, 'basis_size': 'small', 'pseudopotential_type': 'hamann', 'xc': 'PBE'}\n"
     ]
    }
   ],
   "source": [
    "cutoff  =  90.0\n",
    "kpoints = [1,1,1]\n",
    "fxc     = 'PBE'\n",
    "\n",
    "conquest_flags = {'IO.WriteOutToASEFile': True}\n",
    "\n",
    "# Flags for atomic positions optimisation\n",
    "conquest_flags.update({'AtomMove.TypeOfRun'   : 'sqnm',  # optimization algorithm\n",
    "                       'AtomMove.MaxForceTol' :  5e-3,   # max Force component in Ha/bohr                       \n",
    "                       'AtomMove.ReuseDM'     :  True,    \n",
    "                       'AtomMove.AppendCoords':  True,\n",
    "                       }) \n",
    "\n",
    "calc = Conquest(directory      = working_directory,\n",
    "                grid_cutoff    = cutoff,\n",
    "                self_consistent= True,\n",
    "                xc    = fxc,\n",
    "                basis = basis,\n",
    "                kpts  = kpoints,\n",
    "                nspin = 1,\n",
    "                **conquest_flags)\n",
    "\n",
    "struct.calc = calc"
   ]
  },
  {
   "cell_type": "markdown",
   "metadata": {},
   "source": [
    "#### Generate Conquest input and write\n",
    "\n",
    "- input file `Conquest_input` is stored in `./working_directory`"
   ]
  },
  {
   "cell_type": "code",
   "execution_count": 15,
   "metadata": {
    "scrolled": true
   },
   "outputs": [
    {
     "name": "stdout",
     "output_type": "stream",
     "text": [
      "## ConquestWarning ##\n",
      "file: /Users/lioneltruflandier/Conquest-ase/ase/ase/calculators/conquest.py , line: 275\n",
      ">>>>  H.ion taken from cq_example_phenol_optpos_io/H.ion\n",
      "## ConquestWarning ##\n",
      "file: /Users/lioneltruflandier/Conquest-ase/ase/ase/calculators/conquest.py , line: 275\n",
      ">>>>  C.ion taken from cq_example_phenol_optpos_io/C.ion\n",
      "## ConquestWarning ##\n",
      "file: /Users/lioneltruflandier/Conquest-ase/ase/ase/calculators/conquest.py , line: 275\n",
      ">>>>  O.ion taken from cq_example_phenol_optpos_io/O.ion\n",
      "output basis:\n",
      "H {'gen_basis': True, 'basis_size': 'small', 'pseudopotential_type': 'hamann', 'xc': 'PBE'}\n",
      "output basis:\n",
      "C {'gen_basis': True, 'basis_size': 'small', 'pseudopotential_type': 'hamann', 'xc': 'PBE'}\n",
      "output basis:\n",
      "O {'gen_basis': True, 'basis_size': 'small', 'pseudopotential_type': 'hamann', 'xc': 'PBE'}\n"
     ]
    }
   ],
   "source": [
    "struct.calc.write_input(struct)"
   ]
  },
  {
   "cell_type": "markdown",
   "metadata": {},
   "source": [
    "<div class=\"alert alert-block alert-danger\">\n",
    "    <b>WARNING:</b> you must have run the calculation somewhere and store the output files in the working directory\n",
    "    </b>\n",
    "</div>\n",
    "Mandatory output file(s):\n",
    "\n",
    "- `Conquest_out_ase`\n",
    "\n",
    "Optional for struture analysis:\n",
    "- `trajectory.xsf`\n",
    "- `coord_next.dat`"
   ]
  },
  {
   "cell_type": "markdown",
   "metadata": {},
   "source": [
    "#### Post-process `trajectory.xsf` file generated by Conquest"
   ]
  },
  {
   "cell_type": "code",
   "execution_count": 16,
   "metadata": {},
   "outputs": [
    {
     "name": "stdout",
     "output_type": "stream",
     "text": [
      "WARNING: cq_example_phenol_optpos_io/trajectory.xsf already post-processed...\n"
     ]
    }
   ],
   "source": [
    "traj_file= 'trajectory.xsf'\n",
    "traj_file=  working_directory+'/'+traj_file\n",
    "\n",
    "if ( os.path.isfile(traj_file) ):\n",
    "    # cq_postproc_xsf output last structure from xsf file\n",
    "    struct_last = cq_postproc_xsf(traj_file,len(struct))\n",
    "else:\n",
    "    print('WARNING: {} not found !'.format(traj_file))"
   ]
  },
  {
   "cell_type": "markdown",
   "metadata": {},
   "source": [
    "- or extract last structure from Conquest file `coord_next.dat` "
   ]
  },
  {
   "cell_type": "code",
   "execution_count": 25,
   "metadata": {},
   "outputs": [],
   "source": [
    "last_struct='coord_next.dat'\n",
    "last_struct=working_directory+'/'+last_struct\n",
    "\n",
    "if( os.path.isfile(last_struct) ):\n",
    "\n",
    "    struct_last = read_conquest(last_struct, fractional=True, atomic_order=['H','C','O'])\n",
    "    \n",
    "    struct_last.write(working_directory+'/output_.cif')\n",
    "    struct_last.write(working_directory+'/output_.xsf')\n",
    "    \n",
    "else:\n",
    "    print('WARNING: {} not found !'.format(traj_file))"
   ]
  },
  {
   "cell_type": "markdown",
   "metadata": {},
   "source": [
    "- Save ouput `struct_last` in `CIF` and `XSF` format "
   ]
  },
  {
   "cell_type": "code",
   "execution_count": 26,
   "metadata": {},
   "outputs": [],
   "source": [
    "struct_last.write(working_directory+'/output.cif')\n",
    "struct_last.write(working_directory+'/output.xsf')"
   ]
  },
  {
   "cell_type": "markdown",
   "metadata": {},
   "source": [
    "- run `xcrysden` to visualize the optimization movie (if possible)"
   ]
  },
  {
   "cell_type": "code",
   "execution_count": 27,
   "metadata": {},
   "outputs": [
    {
     "name": "stdout",
     "output_type": "stream",
     "text": [
      "\n",
      "+-----------------------------------------------------------------+\n",
      "|*****************************************************************|\n",
      "|*                                                               *|\n",
      "|*  XCrySDen -- (X-Window) CRYstalline Structures and DENsities  *|\n",
      "|*               =         ===         =              ===        *|\n",
      "|*---------------------------------------------------------------*|\n",
      "|*                                                               *|\n",
      "|*    Anton Kokalj (tone.kokalj@ijs.si)                          *|\n",
      "|*    Jozef Stefan Institute, Ljubljana, Slovenia                *|\n",
      "|*                                                               *|\n",
      "|*    Copyright (c) 1996--2019 by Anton Kokalj                   *|\n",
      "|*                                                               *|\n",
      "|*****************************************************************|\n",
      "+-----------------------------------------------------------------+\n",
      "\n",
      "  Version: 1.6.2\n",
      "\n",
      "  Please report bugs to: tone.kokalj@ijs.si\n",
      "\n",
      "\n",
      "  TERMS OF USE:\n",
      "  -------------\n",
      "  XCRYSDEN is released under the GNU General Public License.\n",
      "\n",
      "  Whenever graphics generated by XCRYSDEN are used in scientific\n",
      "  publications, it shall be greatly appreciated to include an explicit\n",
      "  reference. The preferred form is the following:\n",
      "\n",
      "  [ref] A. Kokalj, J. Mol. Graph. Model., Vol. 17, pp. 176-179, 1999.\n",
      "        Code available from http://www.xcrysden.org/.\n",
      "\n",
      "XCRYSDEN_TOPDIR=/opt/local/share/xcrysden-1.6.2\n",
      "XCRYSDEN_SCRATCH=/var/folders/l5/s99fcqc90556khv0qm30stxh0000gr/T/\n",
      "\n"
     ]
    },
    {
     "name": "stderr",
     "output_type": "stream",
     "text": [
      "Running on platform : unix\n",
      "   Operating system : Darwin\n",
      "Package Xwd: /opt/X11/bin/xwd\n",
      "Executing: /opt/local/lib/xcrysden-1.6.2/ftnunit\n",
      "Viewer: mesaWid = .mesa\n",
      "*** xsfAnimInit /var/folders/l5/s99fcqc90556khv0qm30stxh0000gr/T//xc_18793/trajectory.xsf.raw .mesa\n",
      "reading PRIMCOORD\n",
      "Number of Atoms:  0\n",
      "Number of Frames: 0\n",
      "Estimated number of bonds = 0\n",
      "sInfo(dim) = 3; periodic(dim) = 0\n",
      "Executing: /opt/local/lib/xcrysden-1.6.2/gengeom 0 1 11 1 1 1 1 xc_gengeom.18793 /var/folders/l5/s99fcqc90556khv0qm30stxh0000gr/T//xc_18793/trajectory.xsf.raw.1.raw\n",
      "SetWatchCursor: .menu\n",
      "SetWatchCursor: .mesa\n",
      "SetWatchCursor: .ctrl\n",
      "SetWatchCursor: .mea\n",
      "SetWatchCursor: .close\n",
      "SetWatchCursor: .#BWidget\n",
      "Executing: /opt/local/lib/xcrysden-1.6.2/gengeom 2 1 11 1 1 1 1 /var/folders/l5/s99fcqc90556khv0qm30stxh0000gr/T//xc_18793/xc_struc.18793 /var/folders/l5/s99fcqc90556khv0qm30stxh0000gr/T//xc_18793/trajectory.xsf.raw.1.raw\n",
      "SetWatchCursor: .menu\n",
      "SetWatchCursor: .mesa\n",
      "SetWatchCursor: .ctrl\n",
      "SetWatchCursor: .mea\n",
      "SetWatchCursor: .close\n",
      "SetWatchCursor: .#BWidget\n",
      "*** XC_UpdateStrCmd; argc == 4\n",
      "reading PRIMCOORD\n",
      "reading CONVCOORD\n",
      "Number of Atoms:  15\n",
      "Number of Frames: 12\n",
      "natoms: 15 , ndel: 0\n",
      "Filtered number of atoms: 15\n",
      "Estimated number of bonds = 10\n",
      "sInfo(dim) = 3; periodic(dim) = 3\n",
      "************************************************************************\n",
      "Deleting directory /var/folders/l5/s99fcqc90556khv0qm30stxh0000gr/T//xc_18793 ; Please Wait !!!\n",
      "************************************************************************\n",
      "Directory deleted !\n"
     ]
    }
   ],
   "source": [
    "if ( cmd_vis['xcrysden'] and os.path.isfile(traj_file) ):\n",
    "    subprocess.run(['xcrysden', '--axsf', traj_file])"
   ]
  },
  {
   "cell_type": "markdown",
   "metadata": {},
   "source": [
    "#### Read Conquest output results and print the data"
   ]
  },
  {
   "cell_type": "code",
   "execution_count": 28,
   "metadata": {},
   "outputs": [
    {
     "name": "stdout",
     "output_type": "stream",
     "text": [
      "Total electronic energy =   -1517.267468 eV\n",
      "Atoms kinetic energy    =       0.000000 eV\n",
      "Total energy =   -1517.267468 eV\n",
      "\n",
      "Atomic forces (eV/Ang)\n",
      "  C    0.039875   -0.015450    0.074775\n",
      "  C   -0.013834   -0.007161    0.140791\n",
      "  C   -0.024067    0.003878    0.017798\n",
      "  C    0.026644    0.003180    0.023146\n",
      "  C   -0.035339    0.003774   -0.104298\n",
      "  C   -0.030841   -0.008137    0.027217\n",
      "  H   -0.053174   -0.003648    0.044576\n",
      "  H   -0.018919    0.003569    0.008939\n",
      "  H    0.001919   -0.001289   -0.027428\n",
      "  H   -0.026812    0.003641   -0.028046\n",
      "  H   -0.004671   -0.003498   -0.039866\n",
      "  O    0.129597    0.021842   -0.105163\n",
      "  H   -0.012914   -0.003087   -0.060001\n",
      "\n",
      "Cell stress tensor components (eV/Ang**3)\n",
      "  xx =    0.000344\n",
      "  yy =   -0.000029\n",
      "  zz =   -0.000528\n",
      "  yz =    0.000000\n",
      "  xz =    0.000000\n"
     ]
    }
   ],
   "source": [
    "struct.calc.read_results(struct)\n",
    "\n",
    "cq_print_output_data(struct,2)"
   ]
  },
  {
   "cell_type": "markdown",
   "metadata": {},
   "source": [
    "#### Extract and print main structural data from optimized structure `last_struct`"
   ]
  },
  {
   "cell_type": "code",
   "execution_count": 33,
   "metadata": {},
   "outputs": [
    {
     "name": "stdout",
     "output_type": "stream",
     "text": [
      "Cartesian atomic positions (Ang.)\n",
      "  C       9.955080      9.995827      9.978130\n",
      "  C       9.969211      0.000521      1.420770\n",
      "  C       1.212958      0.000910      2.123587\n",
      "  C       2.457394      9.999959      1.415840\n",
      "  C       2.444533      0.000986      9.985170\n",
      "  C       1.205205      0.000469      9.261664\n",
      "  H       8.969736      9.999459      1.995586\n",
      "  H       1.208240      0.000129      3.275849\n",
      "  H       3.454185      9.999828      1.992899\n",
      "  H       3.443727      0.000120      9.408341\n",
      "  H       1.214537      9.999467      8.110705\n",
      "  O       8.703846      9.979446      9.342644\n",
      "  H       8.962939      9.982321      8.338779\n",
      "\n",
      "Fractional atomic positions (Adim.)\n",
      "  C       0.995508      0.999583      0.997813\n",
      "  C       0.996921      0.000052      0.142077\n",
      "  C       0.121296      0.000091      0.212359\n",
      "  C       0.245739      0.999996      0.141584\n",
      "  C       0.244453      0.000099      0.998517\n",
      "  C       0.120521      0.000047      0.926166\n",
      "  H       0.896974      0.999946      0.199559\n",
      "  H       0.120824      0.000013      0.327585\n",
      "  H       0.345419      0.999983      0.199290\n",
      "  H       0.344373      0.000012      0.940834\n",
      "  H       0.121454      0.999947      0.811071\n",
      "  O       0.870385      0.997945      0.934264\n",
      "  H       0.896294      0.998232      0.833878\n",
      "\n",
      "Cell tensor (Ang.)\n",
      "         10.000000      0.000000      0.000000\n",
      "          0.000000     10.000000      0.000000\n",
      "          0.000000      0.000000     10.000000\n",
      "\n",
      "Cartesian atomic positions (Ang.) from cell tensor\n",
      "  C       9.955080      9.995827      9.978130\n",
      "  C       9.969211      0.000521      1.420770\n",
      "  C       1.212958      0.000910      2.123587\n",
      "  C       2.457394      9.999959      1.415840\n",
      "  C       2.444533      0.000986      9.985170\n",
      "  C       1.205205      0.000469      9.261664\n",
      "  H       8.969736      9.999459      1.995586\n",
      "  H       1.208240      0.000129      3.275849\n",
      "  H       3.454185      9.999828      1.992899\n",
      "  H       3.443727      0.000120      9.408341\n",
      "  H       1.214537      9.999467      8.110705\n",
      "  O       8.703846      9.979446      9.342644\n",
      "  H       8.962939      9.982321      8.338779\n",
      "\n",
      "Cell parameters (Ang. and degree)\n",
      "  a =      10.000000\n",
      "  b =      10.000000\n",
      "  c =      10.000000\n",
      "  alpha =  90.0000\n",
      "  beta  =  90.0000\n",
      "  gamma =  90.0000\n"
     ]
    }
   ],
   "source": [
    "print_struct_data(struct_last,verbose=2)"
   ]
  },
  {
   "cell_type": "markdown",
   "metadata": {},
   "source": [
    "#### Extract Fermi energy, band gap and energy levels"
   ]
  },
  {
   "cell_type": "code",
   "execution_count": 34,
   "metadata": {},
   "outputs": [
    {
     "name": "stdout",
     "output_type": "stream",
     "text": [
      "Total electronic energy =   -1517.267468 eV\n",
      "Fermi energy            =      -3.429805 eV\n",
      "\n",
      "Band energies at the G point\n",
      "# energy in eV (occupation number)\n",
      "      82.72511 (0.000)\n",
      "      79.02133 (0.000)\n",
      "      77.64300 (0.000)\n",
      "      72.84193 (0.000)\n",
      "      67.98475 (0.000)\n",
      "      67.03068 (0.000)\n",
      "      65.14112 (0.000)\n",
      "      52.42281 (0.000)\n",
      "      50.67533 (0.000)\n",
      "      47.82931 (0.000)\n",
      "      47.78918 (0.000)\n",
      "      44.56539 (0.000)\n",
      "      44.14880 (0.000)\n",
      "      42.17595 (0.000)\n",
      "      40.15447 (0.000)\n",
      "      39.42287 (0.000)\n",
      "      38.17263 (0.000)\n",
      "      37.34455 (0.000)\n",
      "      36.57399 (0.000)\n",
      "      31.88977 (0.000)\n",
      "      31.71561 (0.000)\n",
      "      30.98454 (0.000)\n",
      "      30.79332 (0.000)\n",
      "      28.77877 (0.000)\n",
      "      27.93121 (0.000)\n",
      "      27.42718 (0.000)\n",
      "      25.40100 (0.000)\n",
      "      24.78139 (0.000)\n",
      "      24.13028 (0.000)\n",
      "      23.55028 (0.000)\n",
      "      22.85516 (0.000)\n",
      "      22.80339 (0.000)\n",
      "      20.25539 (0.000)\n",
      "      20.02643 (0.000)\n",
      "      19.04182 (0.000)\n",
      "      18.21275 (0.000)\n",
      "      17.20187 (0.000)\n",
      "      16.15248 (0.000)\n",
      "      15.15939 (0.000)\n",
      "      14.59826 (0.000)\n",
      "      13.80362 (0.000)\n",
      "      13.25018 (0.000)\n",
      "      12.62248 (0.000)\n",
      "      12.03890 (0.000)\n",
      "      11.99444 (0.000)\n",
      "      11.34599 (0.000)\n",
      "      10.87193 (0.000)\n",
      "      10.60666 (0.000)\n",
      "       9.78773 (0.000)\n",
      "       9.31764 (0.000)\n",
      "       8.33458 (0.000)\n",
      "       7.95700 (0.000)\n",
      "       6.81715 (0.000)\n",
      "       6.79619 (0.000)\n",
      "       5.76186 (0.000)\n",
      "       5.56844 (0.000)\n",
      "       5.38502 (0.000)\n",
      "       4.82220 (0.000)\n",
      "       4.72032 (0.000)\n",
      "       2.88622 (0.000)\n",
      "       2.42128 (0.000)\n",
      "       2.27554 (0.000)\n",
      "       1.77867 (0.000)\n",
      "       1.56356 (0.000)\n",
      "       0.73602 (0.000)\n",
      "      -0.13642 (0.000)\n",
      "      -0.57449 (0.000)\n",
      "      -2.57200 (0.000)\n",
      "      -2.94036 (0.000)\n",
      "      -6.83123 (2.000)\n",
      "      -7.62605 (2.000)\n",
      "      -9.21558 (2.000)\n",
      "      -9.86395 (2.000)\n",
      "     -10.39959 (2.000)\n",
      "     -10.81626 (2.000)\n",
      "     -10.85669 (2.000)\n",
      "     -11.63941 (2.000)\n",
      "     -12.08212 (2.000)\n",
      "     -12.85835 (2.000)\n",
      "     -13.32136 (2.000)\n",
      "     -14.36135 (2.000)\n",
      "     -16.09408 (2.000)\n",
      "     -16.54832 (2.000)\n",
      "     -19.55613 (2.000)\n",
      "     -19.77811 (2.000)\n",
      "     -22.14430 (2.000)\n",
      "     -27.43481 (2.000)\n",
      "               (total 36.000)\n",
      "Direct gap: 3.891 eV\n",
      "Transition at: (s=0, k=0, n=17, [0.00, 0.00, 0.00])\n"
     ]
    }
   ],
   "source": [
    "# Fermi energy as evaluated in Conquest code 'Fermi energy for spin'\n",
    "fermi_energy = calc.get_fermi_level()\n",
    "eigenvalues  = calc.get_eigenvalues()\n",
    "\n",
    "print('Total electronic energy = {:14.6f} eV'.format(struct.calc.results['energy']))\n",
    "print('Fermi energy            = {:14.6f} eV'.format(fermi_energy))\n",
    "print_occ(eigenvalues,fermi_energy,0.01,method='aufbau',label='G')\n",
    "\n",
    "# Evaluate band gap\n",
    "gap, p1, p2  = bandgap(struct.calc,efermi=fermi_energy,direct=True)"
   ]
  },
  {
   "cell_type": "code",
   "execution_count": null,
   "metadata": {},
   "outputs": [],
   "source": []
  },
  {
   "cell_type": "code",
   "execution_count": null,
   "metadata": {},
   "outputs": [],
   "source": []
  },
  {
   "cell_type": "code",
   "execution_count": null,
   "metadata": {},
   "outputs": [],
   "source": []
  }
 ],
 "metadata": {
  "kernelspec": {
   "display_name": "Python 3 (ipykernel)",
   "language": "python",
   "name": "python3"
  },
  "language_info": {
   "codemirror_mode": {
    "name": "ipython",
    "version": 3
   },
   "file_extension": ".py",
   "mimetype": "text/x-python",
   "name": "python",
   "nbconvert_exporter": "python",
   "pygments_lexer": "ipython3",
   "version": "3.9.13"
  }
 },
 "nbformat": 4,
 "nbformat_minor": 4
}
