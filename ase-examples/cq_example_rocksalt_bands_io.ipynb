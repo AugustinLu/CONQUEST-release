{
 "cells": [
  {
   "cell_type": "markdown",
   "metadata": {},
   "source": [
    "### IO example for NaCl electronic band structure using Conquest\n",
    "> Basic example for how to use ASE to compute and plot a band structure of a non-magnetic insulator\n",
    "\n",
    "> The objective is to use ASE for pre-process (building the **I**nput files) and\n",
    "> post-process (having the **O**utput file) a Conquest calculation. \n",
    "> The calculation *must* be run at hand,\n",
    "> that is, the calculation is not launched by ASE."
   ]
  },
  {
   "cell_type": "markdown",
   "metadata": {},
   "source": [
    "<div class=\"alert alert-block alert-danger\">\n",
    "    <b>WARNING:</b> IO example requirements\n",
    "</div>    \n",
    "\n",
    "> `ASE version = 3.20.0b1` including `Conquest`\n",
    "\n"
   ]
  },
  {
   "cell_type": "code",
   "execution_count": 18,
   "metadata": {},
   "outputs": [],
   "source": [
    "import os\n",
    "import shutil\n",
    "import subprocess\n",
    "import matplotlib.pyplot as plt\n",
    "import pickle\n",
    "\n",
    "from distutils.spawn import find_executable\n",
    "from numpy import amax, amin, size, array, trapz, floor\n",
    "\n",
    "from ase.units import Hartree\n",
    "from ase.build import bulk\n",
    "from ase.calculators.conquest import Conquest\n",
    "from ase.io.conquest import Conquest_orthorhombic_check\n",
    "from ase.io.conquest import get_fermi_level\n",
    "#from ase.io.conquest import read_conquest\n",
    "\n",
    "from ase.dft.bandgap import bandgap\n",
    "from ase.dft.dos import DOS\n",
    "from ase.visualize import view\n",
    "from ase.spacegroup import get_spacegroup\n",
    "from ase import Atoms\n",
    "\n",
    "from cq_ase_external_lib import print_struct_data\n",
    "from cq_ase_external_lib import get_gapwind"
   ]
  },
  {
   "cell_type": "code",
   "execution_count": 3,
   "metadata": {},
   "outputs": [
    {
     "name": "stderr",
     "output_type": "stream",
     "text": [
      "/Users/lioneltruflandier/opt/anaconda3/lib/python3.9/site-packages/scipy/__init__.py:146: UserWarning: A NumPy version >=1.16.5 and <1.23.0 is required for this version of SciPy (detected version 1.23.4\n",
      "  warnings.warn(f\"A NumPy version >={np_minversion} and <{np_maxversion}\"\n"
     ]
    },
    {
     "name": "stdout",
     "output_type": "stream",
     "text": [
      "ase-3.20.0b1_cq\n"
     ]
    }
   ],
   "source": [
    "%%bash \n",
    "ase --version"
   ]
  },
  {
   "cell_type": "markdown",
   "metadata": {},
   "source": [
    "#### Check if visualisation tools are installed"
   ]
  },
  {
   "cell_type": "code",
   "execution_count": 4,
   "metadata": {},
   "outputs": [
    {
     "name": "stdout",
     "output_type": "stream",
     "text": [
      "xcrysden found\n",
      "VESTA found\n",
      "VMDLauncher not found\n"
     ]
    }
   ],
   "source": [
    "# Add exe name \n",
    "cmd_vis = {'xcrysden' : False}\n",
    "\n",
    "for cmd, state in cmd_vis.items():\n",
    "    if ( not shutil.which(cmd) ):\n",
    "        print('{} not found'.format(cmd))\n",
    "    else:\n",
    "        print('{} found'.format(cmd))   \n",
    "        cmd_vis[cmd] = True\n",
    "        \n",
    "# For MacOSX add the path of the name of the app\n",
    "cmd_app = {'VESTA'      : '/Applications/VESTA/VESTA.app/Contents/MacOS/VESTA',\n",
    "           'VMDLauncher': '/Applications/VMD_1.9.2.app/Contents/MacOS/VMDLauncher'}\n",
    "\n",
    "for cmd, path in cmd_app.items():\n",
    "    if ( not find_executable(path) ):\n",
    "        print('{} not found'.format(cmd))\n",
    "    else:\n",
    "        print('{} found'.format(cmd))   "
   ]
  },
  {
   "cell_type": "markdown",
   "metadata": {},
   "source": [
    "#### Directory for storing calculation files"
   ]
  },
  {
   "cell_type": "code",
   "execution_count": 5,
   "metadata": {},
   "outputs": [],
   "source": [
    "working_directory = 'cq_example_rocksalt_bands_io'\n",
    "\n",
    "# Test if `working_directory` exists ? If not create it\n",
    "if ( not os.path.isdir(working_directory) ):\n",
    "    os.makedirs(working_directory)"
   ]
  },
  {
   "cell_type": "markdown",
   "metadata": {},
   "source": [
    "#### Define Conquest environment"
   ]
  },
  {
   "cell_type": "code",
   "execution_count": 6,
   "metadata": {},
   "outputs": [],
   "source": [
    "os.environ['ASE_CONQUEST_COMMAND'] = 'mpirun -np 4 /Users/lioneltruflandier/CONQUEST-release-f-rework-output/src/Conquest'\n",
    "os.environ['CQ_PP_PATH'] = '/Users/lioneltruflandier/Conquest-develop-outdated/pseudo-and-pao'\n",
    "os.environ['CQ_GEN_BASIS_CMD'] = '/Users/lioneltruflandier/CONQUEST-release-develop/tools/BasisGeneration/MakeIonFiles'"
   ]
  },
  {
   "cell_type": "markdown",
   "metadata": {},
   "source": [
    "#### Setup Conquest basis set"
   ]
  },
  {
   "cell_type": "code",
   "execution_count": 7,
   "metadata": {},
   "outputs": [],
   "source": [
    "basis = {'Na' : {'gen_basis'            : True,\n",
    "                 'basis_size'           : 'small',\n",
    "                 'pseudopotential_type' : 'hamann'},\n",
    "         'Cl' : {'gen_basis'            : False,\n",
    "                 'basis_size'           : 'small',\n",
    "                 'pseudopotential_type' : 'hamann'}\n",
    "        }\n",
    "\n",
    "val_elec = {'Na': 9, 'Cl': 7}"
   ]
  },
  {
   "cell_type": "markdown",
   "metadata": {},
   "source": [
    "#### Generate rocksalt cell from CIF file data"
   ]
  },
  {
   "cell_type": "markdown",
   "metadata": {},
   "source": [
    "- Choose either primitive or conventional cell"
   ]
  },
  {
   "cell_type": "code",
   "execution_count": 8,
   "metadata": {},
   "outputs": [],
   "source": [
    "primitive = True"
   ]
  },
  {
   "cell_type": "markdown",
   "metadata": {},
   "source": [
    "- Generate rocksalt struture with $a=5.71$ Ang."
   ]
  },
  {
   "cell_type": "code",
   "execution_count": 9,
   "metadata": {},
   "outputs": [
    {
     "name": "stdout",
     "output_type": "stream",
     "text": [
      "## ConquestWarning ##\n",
      "file: /Users/lioneltruflandier/Conquest-ase/ase/ase/io/conquest.py , line: 108\n",
      ">>>>  Current cell not orthorhombic:\n",
      "Bravais lattice:\n",
      "   FCC(a=5.71)\n",
      "Space group:\n",
      "   Fm-3m (225)\n",
      "Cell parameters (Ang. and degree):\n",
      "   a =       4.037580\n",
      "   b =       4.037580\n",
      "   c =       4.037580\n",
      "   alpha =  60.0000\n",
      "   beta  =  60.0000\n",
      "   gamma =  60.0000\n",
      "\n",
      "\n",
      "## ConquestWarning ##\n",
      "file: /Users/lioneltruflandier/Conquest-ase/ase/ase/io/conquest.py , line: 122\n",
      ">>>>  New orthorhombic cell:\n",
      "Bravais lattice:\n",
      "   CUB(a=5.71)\n",
      "Space group:\n",
      "   Fm-3m (225)\n",
      "Cell parameters (Ang. and degree):\n",
      "   a =       5.710000\n",
      "   b =       5.710000\n",
      "   c =       5.710000\n",
      "   alpha =  90.0000\n",
      "   beta  =  90.0000\n",
      "   gamma =  90.0000\n"
     ]
    }
   ],
   "source": [
    "if ( primitive ):\n",
    "    # For primitive cell\n",
    "    struct = bulk('NaCl', crystalstructure='rocksalt', a=5.71, cubic=False)\n",
    "    # Conquest can only handle orthorhombic cells ; check\n",
    "    struct = Conquest_orthorhombic_check(struct,verbose=False)\n",
    "    # warning must be printed and 'struct' is modified to conventional cell\n",
    "    \n",
    "else:\n",
    "    # For conventional cell\n",
    "    struct = bulk('NaCl', crystalstructure='rocksalt', a=5.71, cubic=True)\n",
    "    # Conquest can only handle orthorhombic cells ; check\n",
    "    struct = Conquest_orthorhombic_check(struct,verbose=False)\n",
    "    # no warning..."
   ]
  },
  {
   "cell_type": "markdown",
   "metadata": {},
   "source": [
    "#### Compute the number of states\n",
    "- Given `struct`and the `val_elec`compute the total number of electrons"
   ]
  },
  {
   "cell_type": "code",
   "execution_count": 10,
   "metadata": {},
   "outputs": [
    {
     "name": "stdout",
     "output_type": "stream",
     "text": [
      "Number of valence electron in the unit cell =  64\n"
     ]
    }
   ],
   "source": [
    "# Get atom labels\n",
    "atom_names = struct.get_chemical_symbols()\n",
    "\n",
    "# Compute total valence electrons\n",
    "tot_val = 0\n",
    "for i in range(len(struct)):\n",
    "    for key, val in val_elec.items():\n",
    "        if ( key == atom_names[i] ):\n",
    "            tot_val = tot_val + val\n",
    "\n",
    "print('Number of valence electron in the unit cell = ', tot_val)"
   ]
  },
  {
   "cell_type": "markdown",
   "metadata": {},
   "source": [
    "- Compute number(s) of occupied states"
   ]
  },
  {
   "cell_type": "code",
   "execution_count": 11,
   "metadata": {},
   "outputs": [
    {
     "name": "stdout",
     "output_type": "stream",
     "text": [
      "\n",
      "Number of occupied bands =  [32]\n"
     ]
    }
   ],
   "source": [
    "n_occ = []\n",
    "if ( tot_val % 2 == 0):\n",
    "    # paired electrons\n",
    "    n_occ.append(int(tot_val/2))\n",
    "else:\n",
    "    # unpaired electrons\n",
    "    n_occ.append(int((tot_val-1)/2))\n",
    "    n_occ.append(int((tot_val+1)/2))\n",
    "    \n",
    "print()\n",
    "print('Number of occupied bands = ', n_occ)"
   ]
  },
  {
   "cell_type": "markdown",
   "metadata": {},
   "source": [
    "#### Extract and print main structural data from Atoms object (here `struct`)"
   ]
  },
  {
   "cell_type": "code",
   "execution_count": 12,
   "metadata": {},
   "outputs": [
    {
     "name": "stdout",
     "output_type": "stream",
     "text": [
      "Cartesian atomic positions (Ang.)\n",
      "  Na      0.000000      0.000000      0.000000\n",
      "  Cl      2.855000      0.000000      0.000000\n",
      "  Na      0.000000      2.855000      2.855000\n",
      "  Cl      2.855000      2.855000      2.855000\n",
      "  Na      2.855000      0.000000      2.855000\n",
      "  Cl      0.000000      0.000000      2.855000\n",
      "  Na      2.855000      2.855000      0.000000\n",
      "  Cl      0.000000      2.855000      0.000000\n",
      "\n",
      "Fractional atomic positions (Adim.)\n",
      "  Na      0.000000      0.000000      0.000000\n",
      "  Cl      0.500000      0.000000      0.000000\n",
      "  Na      0.000000      0.500000      0.500000\n",
      "  Cl      0.500000      0.500000      0.500000\n",
      "  Na      0.500000      0.000000      0.500000\n",
      "  Cl      0.000000      0.000000      0.500000\n",
      "  Na      0.500000      0.500000      0.000000\n",
      "  Cl      0.000000      0.500000      0.000000\n",
      "\n",
      "Cell tensor (Ang.)\n",
      "          5.710000      0.000000      0.000000\n",
      "          0.000000      5.710000      0.000000\n",
      "          0.000000      0.000000      5.710000\n",
      "\n",
      "Cartesian atomic positions (Ang.) from cell tensor\n",
      "  Na      0.000000      0.000000      0.000000\n",
      "  Cl      2.855000      0.000000      0.000000\n",
      "  Na      0.000000      2.855000      2.855000\n",
      "  Cl      2.855000      2.855000      2.855000\n",
      "  Na      2.855000      0.000000      2.855000\n",
      "  Cl      0.000000      0.000000      2.855000\n",
      "  Na      2.855000      2.855000      0.000000\n",
      "  Cl      0.000000      2.855000      0.000000\n",
      "\n",
      "Cell parameters (Ang. and degree)\n",
      "  a =       5.710000\n",
      "  b =       5.710000\n",
      "  c =       5.710000\n",
      "  alpha =  90.0000\n",
      "  beta  =  90.0000\n",
      "  gamma =  90.0000\n"
     ]
    }
   ],
   "source": [
    "print_struct_data(struct,verbose=1)"
   ]
  },
  {
   "cell_type": "markdown",
   "metadata": {},
   "source": [
    "- Space group ; Brillouin zone of space group [225](https://www.cryst.ehu.es/cgi-bin/cryst/programs/nph-kv-list?gnum=225&fig=fm3qmf&what=data)"
   ]
  },
  {
   "cell_type": "code",
   "execution_count": 13,
   "metadata": {},
   "outputs": [
    {
     "name": "stdout",
     "output_type": "stream",
     "text": [
      "Space group: F m -3 m (225) \n"
     ]
    }
   ],
   "source": [
    "sg = get_spacegroup(struct)\n",
    "print('Space group: {} ({}) '.format(sg.symbol,sg.no))"
   ]
  },
  {
   "cell_type": "markdown",
   "metadata": {},
   "source": [
    "- Save input structure as VASP `POSCAR` file & `CIF` file (for checking purpose)"
   ]
  },
  {
   "cell_type": "code",
   "execution_count": 14,
   "metadata": {},
   "outputs": [],
   "source": [
    "struct.write(working_directory+'/input.vasp')\n",
    "struct.write(working_directory+'/input.cif')"
   ]
  },
  {
   "cell_type": "markdown",
   "metadata": {},
   "source": [
    "- run `VESTA` to check input (if possible) from `input.cif`"
   ]
  },
  {
   "cell_type": "code",
   "execution_count": 15,
   "metadata": {},
   "outputs": [],
   "source": [
    "#if ( 'VESTA' in cmd_app ):\n",
    "#    subprocess.run([cmd_app['VESTA'], working_directory+'/'+'input.cif'])"
   ]
  },
  {
   "cell_type": "markdown",
   "metadata": {},
   "source": [
    "#### Setup calculation using Conquest as calculator"
   ]
  },
  {
   "cell_type": "code",
   "execution_count": 16,
   "metadata": {},
   "outputs": [
    {
     "name": "stdout",
     "output_type": "stream",
     "text": [
      "input basis:\n",
      "Na {'gen_basis': True, 'basis_size': 'small', 'pseudopotential_type': 'hamann'}\n",
      "input basis:\n",
      "Cl {'gen_basis': False, 'basis_size': 'small', 'pseudopotential_type': 'hamann'}\n"
     ]
    }
   ],
   "source": [
    "cutoff  =  80.0\n",
    "kpoints = [3,3,3]\n",
    "fxc     = 'PBE'\n",
    "\n",
    "conquest_flags = {'IO.WriteOutToASEFile' : 'True',\n",
    "                  'IO.DumpChargeDensity' : 'True'}\n",
    "\n",
    "calc = Conquest(directory      = working_directory,\n",
    "                grid_cutoff    = cutoff,\n",
    "                self_consistent= True,\n",
    "                xc    = fxc,\n",
    "                basis = basis,\n",
    "                kpts  = kpoints,\n",
    "                nspin = 1,\n",
    "                **conquest_flags)\n",
    "\n",
    "struct.calc = calc"
   ]
  },
  {
   "cell_type": "markdown",
   "metadata": {},
   "source": [
    "#### Generate Conquest input for SCF calculation\n",
    "\n",
    "- input file `Conquest_input` is stored in `./working_directory`"
   ]
  },
  {
   "cell_type": "code",
   "execution_count": 17,
   "metadata": {},
   "outputs": [
    {
     "name": "stdout",
     "output_type": "stream",
     "text": [
      "## ConquestWarning ##\n",
      "file: /Users/lioneltruflandier/Conquest-ase/ase/ase/calculators/conquest.py , line: 275\n",
      ">>>>  Na.ion taken from cq_example_rocksalt_bands_io/Na.ion\n",
      "## ConquestWarning ##\n",
      "file: /Users/lioneltruflandier/Conquest-ase/ase/ase/calculators/conquest.py , line: 275\n",
      ">>>>  Cl.ion taken from cq_example_rocksalt_bands_io/Cl.ion\n",
      "output basis:\n",
      "Na {'gen_basis': True, 'basis_size': 'small', 'pseudopotential_type': 'hamann', 'xc': 'PBE'}\n",
      "output basis:\n",
      "Cl {'gen_basis': False, 'basis_size': 'small', 'pseudopotential_type': 'hamann', 'xc': 'PBE'}\n"
     ]
    }
   ],
   "source": [
    "struct.calc.write_input(struct)"
   ]
  },
  {
   "cell_type": "markdown",
   "metadata": {},
   "source": [
    "<div class=\"alert alert-block alert-danger\">\n",
    "    <b>WARNING:</b> you must have run the calculation somewhere and store the output files in the working directory\n",
    "    </b>\n",
    "</div>\n",
    "\n",
    "Mandatory output file(s):\n",
    "- `Conquest_out_ase`"
   ]
  },
  {
   "cell_type": "markdown",
   "metadata": {},
   "source": [
    "#### Backup SCF files"
   ]
  },
  {
   "cell_type": "markdown",
   "metadata": {},
   "source": [
    "- copy SCF calculation input/output files "
   ]
  },
  {
   "cell_type": "code",
   "execution_count": 20,
   "metadata": {},
   "outputs": [
    {
     "data": {
      "text/plain": [
       "CompletedProcess(args=['cp', 'cq_example_rocksalt_bands_io/Conquest_out_ase', 'cq_example_rocksalt_bands_io/Conquest_out_ase_scf'], returncode=0)"
      ]
     },
     "execution_count": 20,
     "metadata": {},
     "output_type": "execute_result"
    }
   ],
   "source": [
    "subprocess.run(['cp', working_directory+'/'+'Conquest_input', \n",
    "                working_directory+'/'+'Conquest_input_scf'])\n",
    "\n",
    "subprocess.run(['cp', working_directory+'/'+'Conquest_out', \n",
    "                working_directory+'/'+'Conquest_out_scf'])\n",
    "\n",
    "subprocess.run(['cp', working_directory+'/'+'Conquest_out_ase', \n",
    "                working_directory+'/'+'Conquest_out_ase_scf'])"
   ]
  },
  {
   "cell_type": "markdown",
   "metadata": {},
   "source": [
    "#### Read results (from `Conquest_out_ase` file)"
   ]
  },
  {
   "cell_type": "code",
   "execution_count": 21,
   "metadata": {},
   "outputs": [],
   "source": [
    "struct.calc.read_results(struct)"
   ]
  },
  {
   "cell_type": "markdown",
   "metadata": {},
   "source": [
    "#### Extract Fermi energy from SCF "
   ]
  },
  {
   "cell_type": "code",
   "execution_count": 22,
   "metadata": {},
   "outputs": [],
   "source": [
    "fermi_energy_scf = struct.calc.eFermi"
   ]
  },
  {
   "cell_type": "markdown",
   "metadata": {},
   "source": [
    "#### Band-path print"
   ]
  },
  {
   "cell_type": "code",
   "execution_count": 24,
   "metadata": {},
   "outputs": [
    {
     "name": "stdout",
     "output_type": "stream",
     "text": [
      "CUB(a=5.71)\n",
      "  Variant name: CUB\n",
      "  Special point names: GXRM\n",
      "  Default path: GXMGRX,MR\n",
      "\n",
      "  Special point coordinates:\n",
      "    G   0.0000  0.0000  0.0000\n",
      "    X   0.0000  0.5000  0.0000\n",
      "    R   0.5000  0.5000  0.5000\n",
      "    M   0.5000  0.5000  0.0000\n",
      "\n"
     ]
    }
   ],
   "source": [
    "latt  = struct.cell.get_bravais_lattice()\n",
    "print(latt.description())\n",
    "#print('lattice = ', latt)\n",
    "#print('special k-point = ',list(latt.get_special_points()))\n",
    "\n",
    "primitive = False\n",
    "\n",
    "if ( primitive ):\n",
    "    # For primitive cell\n",
    "    path = 'WLGXWK'\n",
    "else:\n",
    "    # For conventional cell\n",
    "    path = 'GXMGRX,MR'\n",
    "\n",
    "#latt.plot_bz(show=True,path=path)\n",
    "\n",
    "#print('k-point array shape =',size1,'x',size2)\n",
    "#print('k-point coord list (fractional coord.)')\n",
    "#print(kpath.kpts) "
   ]
  },
  {
   "cell_type": "markdown",
   "metadata": {},
   "source": [
    "#### Band structure calculation setup"
   ]
  },
  {
   "cell_type": "code",
   "execution_count": 25,
   "metadata": {},
   "outputs": [],
   "source": [
    "conquest_flags = {'General.LoadRho' : True, 'IO.DumpChargeDensity' : False}\n",
    "nkpoints = 100 "
   ]
  },
  {
   "cell_type": "markdown",
   "metadata": {},
   "source": [
    "- Setup kpoint mesh in Conquest bands input"
   ]
  },
  {
   "cell_type": "code",
   "execution_count": 26,
   "metadata": {},
   "outputs": [
    {
     "name": "stdout",
     "output_type": "stream",
     "text": [
      "BandPath(path='GXRM', cell=[3x3], special_points={GMRX}, kpts=[100x3])\n"
     ]
    }
   ],
   "source": [
    "path  = 'GXRM'\n",
    "kpath = struct.cell.bandpath(path, npoints=nkpoints)\n",
    "print(kpath)\n",
    "Changed_parameters = struct.calc.set(kpts=kpath.kpts,self_consistent=False,**conquest_flags)"
   ]
  },
  {
   "cell_type": "markdown",
   "metadata": {},
   "source": [
    "- ...or Setup kpoint lines in Conquest bands input"
   ]
  },
  {
   "cell_type": "code",
   "execution_count": 27,
   "metadata": {},
   "outputs": [],
   "source": [
    "#kpts_lines = {'path': 'GXRM', 'npoints': nkpoints, 'special_points' : '{GXRM}'}\n",
    "#changed_parameters = calc.set(kpts=kpts_lines,self_consistent=False,**conquest_flags)"
   ]
  },
  {
   "cell_type": "markdown",
   "metadata": {},
   "source": [
    "#### Generate Conquest input for bands calculation\n",
    "- input file `Conquest_input` is stored in `./working_directory`"
   ]
  },
  {
   "cell_type": "code",
   "execution_count": 28,
   "metadata": {},
   "outputs": [],
   "source": [
    "struct.calc.write_input(struct)"
   ]
  },
  {
   "cell_type": "markdown",
   "metadata": {},
   "source": [
    "<div class=\"alert alert-block alert-danger\">\n",
    "    <b>WARNING:</b> you must have run the calculation somewhere and store the output files in the working directory\n",
    "    </b>\n",
    "</div>\n",
    "\n",
    "Mandatory output file(s):\n",
    "- `Conquest_out_ase`"
   ]
  },
  {
   "cell_type": "markdown",
   "metadata": {},
   "source": [
    "#### Read results from band structure calculation"
   ]
  },
  {
   "cell_type": "code",
   "execution_count": 27,
   "metadata": {},
   "outputs": [],
   "source": [
    "struct.calc.read_results()"
   ]
  },
  {
   "cell_type": "markdown",
   "metadata": {},
   "source": [
    "#### Extract band structure"
   ]
  },
  {
   "cell_type": "code",
   "execution_count": 30,
   "metadata": {},
   "outputs": [],
   "source": [
    "bs = calc.band_structure()"
   ]
  },
  {
   "cell_type": "markdown",
   "metadata": {},
   "source": [
    "#### Extract higher occupied (ho) and lower unoccupied (lu) energy level from bands"
   ]
  },
  {
   "cell_type": "code",
   "execution_count": 29,
   "metadata": {
    "scrolled": true
   },
   "outputs": [
    {
     "ename": "IndexError",
     "evalue": "index 14 is out of bounds for axis 0 with size 14",
     "output_type": "error",
     "traceback": [
      "\u001b[0;31m---------------------------------------------------------------------------\u001b[0m",
      "\u001b[0;31mIndexError\u001b[0m                                Traceback (most recent call last)",
      "Cell \u001b[0;32mIn [29], line 1\u001b[0m\n\u001b[0;32m----> 1\u001b[0m ho, lu \u001b[38;5;241m=\u001b[39m \u001b[43mget_gapwind\u001b[49m\u001b[43m(\u001b[49m\u001b[43m \u001b[49m\u001b[43mcalc\u001b[49m\u001b[43m,\u001b[49m\u001b[43m \u001b[49m\u001b[43mkpath\u001b[49m\u001b[43m,\u001b[49m\u001b[43m \u001b[49m\u001b[43mn_occ\u001b[49m\u001b[43m \u001b[49m\u001b[43m)\u001b[49m\n\u001b[1;32m      2\u001b[0m \u001b[38;5;28mprint\u001b[39m(\u001b[38;5;124m'\u001b[39m\u001b[38;5;124mhigher   occupied energy = \u001b[39m\u001b[38;5;132;01m{:.4f}\u001b[39;00m\u001b[38;5;124m eV @kpt \u001b[39m\u001b[38;5;132;01m{}\u001b[39;00m\u001b[38;5;124m => \u001b[39m\u001b[38;5;132;01m{}\u001b[39;00m\u001b[38;5;124m'\u001b[39m\u001b[38;5;241m.\u001b[39mformat(ho[\u001b[38;5;241m0\u001b[39m],ho[\u001b[38;5;241m1\u001b[39m],kpath\u001b[38;5;241m.\u001b[39mkpts[ho[\u001b[38;5;241m1\u001b[39m]]))\n\u001b[1;32m      3\u001b[0m \u001b[38;5;28mprint\u001b[39m(\u001b[38;5;124m'\u001b[39m\u001b[38;5;124mlowest unoccupied energy = \u001b[39m\u001b[38;5;132;01m{:.4f}\u001b[39;00m\u001b[38;5;124m eV @kpt \u001b[39m\u001b[38;5;132;01m{}\u001b[39;00m\u001b[38;5;124m => \u001b[39m\u001b[38;5;132;01m{}\u001b[39;00m\u001b[38;5;124m'\u001b[39m\u001b[38;5;241m.\u001b[39mformat(lu[\u001b[38;5;241m0\u001b[39m],lu[\u001b[38;5;241m1\u001b[39m],kpath\u001b[38;5;241m.\u001b[39mkpts[lu[\u001b[38;5;241m1\u001b[39m]]))\n",
      "File \u001b[0;32m~/CONQUEST-release-f-rework-output/ase-examples/cq_ase_external_lib.py:23\u001b[0m, in \u001b[0;36mget_gapwind\u001b[0;34m(calc, kpath, n_occ)\u001b[0m\n\u001b[1;32m     20\u001b[0m eig_lumo \u001b[38;5;241m=\u001b[39m \u001b[38;5;241m+\u001b[39m\u001b[38;5;241m1e9\u001b[39m   \n\u001b[1;32m     21\u001b[0m \u001b[38;5;28;01mfor\u001b[39;00m kpt \u001b[38;5;129;01min\u001b[39;00m \u001b[38;5;28mrange\u001b[39m( \u001b[38;5;28mlen\u001b[39m(kpath\u001b[38;5;241m.\u001b[39mkpts) ):\n\u001b[0;32m---> 23\u001b[0m     eig_kpt \u001b[38;5;241m=\u001b[39m \u001b[43mcalc\u001b[49m\u001b[38;5;241;43m.\u001b[39;49m\u001b[43mget_eigenvalues\u001b[49m\u001b[43m(\u001b[49m\u001b[43mkpt\u001b[49m\u001b[38;5;241;43m=\u001b[39;49m\u001b[43mkpt\u001b[49m\u001b[43m)\u001b[49m\n\u001b[1;32m     25\u001b[0m     \u001b[38;5;28;01mif\u001b[39;00m ( eig_homo \u001b[38;5;241m<\u001b[39m eig_kpt[\u001b[38;5;28mint\u001b[39m(n_occ[\u001b[38;5;241m0\u001b[39m])\u001b[38;5;241m-\u001b[39m\u001b[38;5;241m1\u001b[39m] ):\n\u001b[1;32m     26\u001b[0m         eig_homo  \u001b[38;5;241m=\u001b[39m eig_kpt[\u001b[38;5;28mint\u001b[39m(n_occ[\u001b[38;5;241m0\u001b[39m])\u001b[38;5;241m-\u001b[39m\u001b[38;5;241m1\u001b[39m]\n",
      "File \u001b[0;32m~/Conquest-ase/ase/ase/calculators/conquest.py:390\u001b[0m, in \u001b[0;36mConquest.get_eigenvalues\u001b[0;34m(self, kpt, spin)\u001b[0m\n\u001b[1;32m    388\u001b[0m \u001b[38;5;28;01mdef\u001b[39;00m \u001b[38;5;21mget_eigenvalues\u001b[39m(\u001b[38;5;28mself\u001b[39m, kpt\u001b[38;5;241m=\u001b[39m\u001b[38;5;241m0\u001b[39m, spin\u001b[38;5;241m=\u001b[39m\u001b[38;5;241m0\u001b[39m):\n\u001b[0;32m--> 390\u001b[0m     \u001b[38;5;28;01mreturn\u001b[39;00m \u001b[38;5;28;43mself\u001b[39;49m\u001b[38;5;241;43m.\u001b[39;49m\u001b[43meigenvalues\u001b[49m\u001b[43m[\u001b[49m\u001b[43mspin\u001b[49m\u001b[43m]\u001b[49m\u001b[43m[\u001b[49m\u001b[43mkpt\u001b[49m\u001b[43m]\u001b[49m[:] \u001b[38;5;241m*\u001b[39m Hartree\n",
      "\u001b[0;31mIndexError\u001b[0m: index 14 is out of bounds for axis 0 with size 14"
     ]
    }
   ],
   "source": [
    "ho, lu = get_gapwind( calc, kpath, n_occ )\n",
    "print('higher   occupied energy = {:.4f} eV @kpt {} => {}'.format(ho[0],ho[1],kpath.kpts[ho[1]]))\n",
    "print('lowest unoccupied energy = {:.4f} eV @kpt {} => {}'.format(lu[0],lu[1],kpath.kpts[lu[1]]))\n",
    "print('band gap = {:.4f} eV'.format(lu[0] - ho[0]))\n",
    "fermi_energy_bands = ho[0]"
   ]
  },
  {
   "cell_type": "markdown",
   "metadata": {},
   "source": [
    "#### Choose wich Fermi level to use for bands and DOS post-processing \n",
    "\n",
    "> you have choice between `fermi_energy_scf` and `fermi_energy_bands`. For insulator, the first one is evaluated to be within the gap. The second one is setup at the highest occupied energy level."
   ]
  },
  {
   "cell_type": "code",
   "execution_count": null,
   "metadata": {
    "scrolled": true
   },
   "outputs": [],
   "source": [
    "print('fermi SCF   = {:12.4f} eV'.format(fermi_energy_scf))\n",
    "print('fermi bands = {:12.4f} eV'.format(fermi_energy_bands))\n",
    "fermi_energy = fermi_energy_scf\n",
    "fermi_energy = fermi_energy_bands"
   ]
  },
  {
   "cell_type": "markdown",
   "metadata": {},
   "source": [
    "#### Setup energy reference for band structure plot"
   ]
  },
  {
   "cell_type": "code",
   "execution_count": null,
   "metadata": {},
   "outputs": [],
   "source": [
    "bs._reference = fermi_energy\n",
    "\n",
    "# Rescaled energies if needed : Fermi energy setup to 0.0 !\n",
    "bs._energies  = bs._energies  - fermi_energy\n",
    "bs._reference = bs._reference - fermi_energy"
   ]
  },
  {
   "cell_type": "markdown",
   "metadata": {},
   "source": [
    "#### Print Fermi energy and energy spectrum bounds"
   ]
  },
  {
   "cell_type": "code",
   "execution_count": null,
   "metadata": {},
   "outputs": [],
   "source": [
    "print('fermi = {:12.4f} eV'.format(fermi_energy))\n",
    "e_max = amax(bs.energies) ; print('e_max = {:12.4f} eV'.format(e_max))\n",
    "e_min = amin(bs.energies) ; print('e_min = {:12.4f} eV'.format(e_min))"
   ]
  },
  {
   "cell_type": "markdown",
   "metadata": {},
   "source": [
    "#### Compute DOS ; Fermi energy must be given"
   ]
  },
  {
   "cell_type": "code",
   "execution_count": null,
   "metadata": {},
   "outputs": [],
   "source": [
    "dos = DOS(calc, width=0.1, fermi=[fermi_energy-bs._reference], npts=1201)\n",
    "d = dos.get_dos() / 2 # correct for ASE spin unpolarized\n",
    "e = dos.get_energies() "
   ]
  },
  {
   "cell_type": "markdown",
   "metadata": {},
   "source": [
    "#### Print band structure and DOS"
   ]
  },
  {
   "cell_type": "code",
   "execution_count": null,
   "metadata": {},
   "outputs": [],
   "source": [
    "#%matplotlib notebook\n",
    "\n",
    "# integrate DOS\n",
    "sum_dos = trapezoid(d,e)\n",
    "\n",
    "# Choose energy window [e_min, e_max]\n",
    "e_max =  15.0\n",
    "e_min = -25.0\n",
    "\n",
    "# Set ax0 and ax1 on 1 single figure\n",
    "fig, (ax0, ax1) = plt.subplots(1,2)\n",
    "\n",
    "# Plot DOS on ax1\n",
    "ax1.plot(d, e, color='black')\n",
    "\n",
    "# Compute integrated DOS\n",
    "sum_dos_cum = cumulative_trapezoid(d,e)\n",
    "\n",
    "# Plot integrated DOS\n",
    "ax1.plot(sum_dos_cum, e[:-1], color='black')\n",
    "\n",
    "# Set plots x- and y- limits\n",
    "ax1.set_ylim(e_min,e_max)\n",
    "ax1.set_xlim(0.0,n_occ[0])\n",
    "\n",
    "# Plot horizontal and vertical lines and x-axis label\n",
    "ax1.axhline(bs.reference, color='k', ls=':')\n",
    "ax1.axvline(n_occ[0], color='k', ls=':', linewidth=0.2)\n",
    "ax1.set_xlabel('state count')\n",
    "\n",
    "# Plot band structure on ax0\n",
    "ax0.set_xlabel('$k$-path')\n",
    "bs.plot(ax0,emin=e_min, emax=e_max, show=True,color='black')"
   ]
  },
  {
   "cell_type": "markdown",
   "metadata": {},
   "source": [
    "#### Save figure as `bands.png` in ` working_directory`"
   ]
  },
  {
   "cell_type": "code",
   "execution_count": null,
   "metadata": {},
   "outputs": [],
   "source": [
    "fig.savefig(working_directory+'/'+'bands.png', dpi=300, format='png', transparent=True)"
   ]
  },
  {
   "cell_type": "markdown",
   "metadata": {},
   "source": [
    "#### Integrate DOS (checking purpose)"
   ]
  },
  {
   "cell_type": "code",
   "execution_count": null,
   "metadata": {},
   "outputs": [],
   "source": [
    "# integrate DOS using trapezoidal rule\n",
    "sum_dos = trapz(d,e)\n",
    "\n",
    "e_ = e[0]\n",
    "# integrate DOS up to Fermi level\n",
    "while( e_ <= bs._reference ):\n",
    "        e_ = e[i+1]\n",
    "        i += 1\n",
    "sum_dos_ef = trapezoid(d[0:i],e[0:i]) \n",
    "\n",
    "print('integrated DOS up to {:12.4f} = {:.4f}'.format(e[-1],sum_dos))\n",
    "print('integrated DOS up to {:12.4f} = {:.4f}'.format(bs._reference,sum_dos_ef))"
   ]
  },
  {
   "cell_type": "markdown",
   "metadata": {},
   "source": [
    "#### Compute direct and indirect band gap"
   ]
  },
  {
   "cell_type": "code",
   "execution_count": null,
   "metadata": {},
   "outputs": [],
   "source": [
    "#WARNING: accuracy issue from ASE 'bandgap' (not yet resolved)\n",
    "#solution: add epsilon to bs._reference (fermi_energy)\n",
    "eps = 1e-6\n",
    "gap, p1, p2 = bandgap(calc,efermi=fermi_energy+eps,direct=True)\n",
    "gap, p1, p2 = bandgap(calc,efermi=fermi_energy+eps,direct=False)"
   ]
  },
  {
   "cell_type": "code",
   "execution_count": null,
   "metadata": {},
   "outputs": [],
   "source": []
  }
 ],
 "metadata": {
  "kernelspec": {
   "display_name": "Python 3 (ipykernel)",
   "language": "python",
   "name": "python3"
  },
  "language_info": {
   "codemirror_mode": {
    "name": "ipython",
    "version": 3
   },
   "file_extension": ".py",
   "mimetype": "text/x-python",
   "name": "python",
   "nbconvert_exporter": "python",
   "pygments_lexer": "ipython3",
   "version": "3.9.13"
  }
 },
 "nbformat": 4,
 "nbformat_minor": 4
}
