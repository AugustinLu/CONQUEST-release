{
 "cells": [
  {
   "cell_type": "markdown",
   "metadata": {},
   "source": [
    "### Example for NaCl cell optimization using ASE-LBFGS and Conquest"
   ]
  },
  {
   "cell_type": "code",
   "execution_count": 1,
   "metadata": {},
   "outputs": [],
   "source": [
    "import os\n",
    "\n",
    "from ase.build import bulk\n",
    "from ase.calculators.conquest import Conquest\n",
    "from ase.constraints import UnitCellFilter\n",
    "from ase.optimize import LBFGS\n",
    "from ase.io.conquest import Conquest_orthorhombic_check"
   ]
  },
  {
   "cell_type": "markdown",
   "metadata": {},
   "source": [
    "#### Define Conquest environment"
   ]
  },
  {
   "cell_type": "code",
   "execution_count": 2,
   "metadata": {},
   "outputs": [],
   "source": [
    "os.environ['ASE_CONQUEST_COMMAND'] = 'mpirun -np 4 /Users/lioneltruflandier/CONQUEST-release-f-rework-output-ase/src/Conquest'\n",
    "#os.environ['ASE_CONQUEST_COMMAND'] = 'mpirun -np 4 /Users/lioneltruflandier/CONQUEST-develop/src/Conquest'\n",
    "os.environ['CQ_PP_PATH'] = '/Users/lioneltruflandier/Conquest-develop-outdated/pseudo-and-pao'\n",
    "os.environ['CQ_GEN_BASIS_CMD'] = '/Users/lioneltruflandier/CONQUEST-release-develop/tools/BasisGeneration/MakeIonFiles'"
   ]
  },
  {
   "cell_type": "markdown",
   "metadata": {},
   "source": [
    "#### Directory for storing calculation files"
   ]
  },
  {
   "cell_type": "code",
   "execution_count": 3,
   "metadata": {},
   "outputs": [],
   "source": [
    "working_directory = 'cq_example_rocksalt_optcell_ase'"
   ]
  },
  {
   "cell_type": "markdown",
   "metadata": {},
   "source": [
    "#### Generate rocksalt struture with $a=6.0$ Ang."
   ]
  },
  {
   "cell_type": "code",
   "execution_count": 4,
   "metadata": {},
   "outputs": [
    {
     "name": "stdout",
     "output_type": "stream",
     "text": [
      "## ConquestWarning ##\n",
      "file: /Users/lioneltruflandier/Conquest-ase/ase/ase/io/conquest.py , line: 108\n",
      ">>>>  Current cell not orthorhombic:\n",
      "Bravais lattice:\n",
      "   FCC(a=6)\n",
      "Space group:\n",
      "   Fm-3m (225)\n",
      "Cell parameters (Ang. and degree):\n",
      "   a =       4.242641\n",
      "   b =       4.242641\n",
      "   c =       4.242641\n",
      "   alpha =  60.0000\n",
      "   beta  =  60.0000\n",
      "   gamma =  60.0000\n",
      "Cartesian atomic positions (Ang.)\n",
      "  Na      0.000000      0.000000      0.000000\n",
      "  Cl      3.000000      0.000000      0.000000\n",
      "\n",
      "\n",
      "## ConquestWarning ##\n",
      "file: /Users/lioneltruflandier/Conquest-ase/ase/ase/io/conquest.py , line: 122\n",
      ">>>>  New orthorhombic cell:\n",
      "Bravais lattice:\n",
      "   CUB(a=6)\n",
      "Space group:\n",
      "   Fm-3m (225)\n",
      "Cell parameters (Ang. and degree):\n",
      "   a =       6.000000\n",
      "   b =       6.000000\n",
      "   c =       6.000000\n",
      "   alpha =  90.0000\n",
      "   beta  =  90.0000\n",
      "   gamma =  90.0000\n",
      "Cartesian atomic positions (Ang.)\n",
      "  Na      0.000000      0.000000      0.000000\n",
      "  Cl      3.000000      0.000000      0.000000\n",
      "  Na      0.000000      3.000000      3.000000\n",
      "  Cl      3.000000      3.000000      3.000000\n",
      "  Na      3.000000      0.000000      3.000000\n",
      "  Cl      0.000000      0.000000      3.000000\n",
      "  Na      3.000000      3.000000      0.000000\n",
      "  Cl      0.000000      3.000000      0.000000\n"
     ]
    }
   ],
   "source": [
    "rocksalt = bulk('NaCl', crystalstructure='rocksalt', a=6.0)\n",
    "\n",
    "# Conquest can only handle orthorhombic cells\n",
    "rocksalt = Conquest_orthorhombic_check(rocksalt,verbose=True)"
   ]
  },
  {
   "cell_type": "markdown",
   "metadata": {},
   "source": [
    "#### Setup Conquest atomic basis set"
   ]
  },
  {
   "cell_type": "code",
   "execution_count": 5,
   "metadata": {},
   "outputs": [],
   "source": [
    "basis = {'Na' : {'gen_basis'            : True,\n",
    "                 'basis_size'           : 'medium',\n",
    "                 'pseudopotential_type' : 'hamann'},\n",
    "         'Cl' : {'gen_basis'            : False,\n",
    "                 'basis_size'           : 'medium',\n",
    "                 'pseudopotential_type' : 'hamann'\n",
    "                 }}\n",
    "\n",
    "#basis = {'Na' : {'file' : 'Na_PBE_DZP_CQ.ion'},\n",
    "#         'Cl' : {'file' : 'Cl_PBE_DZP_CQ.ion'}}\n",
    "#\n",
    "#basis = {'Na' : {'gen_basis'            : False,\n",
    "#                 'basis_size'           : 'medium',\n",
    "#                 'pseudopotential_type' : 'hamann',\n",
    "#                 'xc'                   : 'PBE' },\n",
    "#         'Cl' : {'file' : 'Cl_PBE_DZP_CQ.ion', 'xc' : 'PBE'}\n",
    "#         }"
   ]
  },
  {
   "cell_type": "markdown",
   "metadata": {},
   "source": [
    "#### Setup calculation using Conquest as calculator"
   ]
  },
  {
   "cell_type": "code",
   "execution_count": 6,
   "metadata": {},
   "outputs": [
    {
     "name": "stdout",
     "output_type": "stream",
     "text": [
      "input basis:\n",
      "Na {'gen_basis': True, 'basis_size': 'medium', 'pseudopotential_type': 'hamann'}\n",
      "input basis:\n",
      "Cl {'gen_basis': False, 'basis_size': 'medium', 'pseudopotential_type': 'hamann'}\n"
     ]
    }
   ],
   "source": [
    "conquest_flags = {'IO.WriteOutToASEFile': True}\n",
    "\n",
    "calc = Conquest(directory=working_directory,\n",
    "                grid_cutoff=80,\n",
    "                xc='PBE',\n",
    "                self_consistent=True,\n",
    "                basis=basis,\n",
    "                kpts=[3,3,3],\n",
    "                nspin=1,\n",
    "                **conquest_flags)"
   ]
  },
  {
   "cell_type": "markdown",
   "metadata": {},
   "source": [
    "#### Run calculation"
   ]
  },
  {
   "cell_type": "code",
   "execution_count": 7,
   "metadata": {
    "scrolled": true
   },
   "outputs": [
    {
     "name": "stdout",
     "output_type": "stream",
     "text": [
      "## ConquestWarning ##\n",
      "file: /Users/lioneltruflandier/Conquest-ase/ase/ase/calculators/conquest.py , line: 275\n",
      ">>>>  Na.ion taken from cq_example_rocksalt_optcell_ase/Na.ion\n",
      "## ConquestWarning ##\n",
      "file: /Users/lioneltruflandier/Conquest-ase/ase/ase/calculators/conquest.py , line: 275\n",
      ">>>>  Cl.ion taken from cq_example_rocksalt_optcell_ase/Cl.ion\n",
      "output basis:\n",
      "Na {'gen_basis': True, 'basis_size': 'medium', 'pseudopotential_type': 'hamann', 'xc': 'PBE'}\n",
      "output basis:\n",
      "Cl {'gen_basis': False, 'basis_size': 'medium', 'pseudopotential_type': 'hamann', 'xc': 'PBE'}\n"
     ]
    }
   ],
   "source": [
    "rocksalt.calc = calc\n",
    "dft_energy    = rocksalt.get_potential_energy()"
   ]
  },
  {
   "cell_type": "code",
   "execution_count": 8,
   "metadata": {},
   "outputs": [],
   "source": [
    "ucf = UnitCellFilter(rocksalt)\n",
    "opt = LBFGS(ucf)"
   ]
  },
  {
   "cell_type": "code",
   "execution_count": 9,
   "metadata": {},
   "outputs": [
    {
     "name": "stdout",
     "output_type": "stream",
     "text": [
      "       Step     Time          Energy         fmax\n",
      "LBFGS:    0 17:46:53    -6772.649997        0.9917\n",
      "LBFGS:    1 17:47:17    -6772.677717        0.9754\n",
      "LBFGS:    2 17:47:44    -6773.017788        0.6573\n",
      "LBFGS:    3 17:48:12    -6773.209043        0.2989\n",
      "LBFGS:    4 17:48:42    -6773.233950        0.1865\n",
      "LBFGS:    5 17:49:14    -6773.242080        0.0198\n",
      "LBFGS:    6 17:49:44    -6773.242243        0.0024\n"
     ]
    },
    {
     "data": {
      "text/plain": [
       "True"
      ]
     },
     "execution_count": 9,
     "metadata": {},
     "output_type": "execute_result"
    }
   ],
   "source": [
    "opt.run(fmax=0.005)"
   ]
  },
  {
   "cell_type": "markdown",
   "metadata": {},
   "source": [
    "#### Compute final lattice constant"
   ]
  },
  {
   "cell_type": "code",
   "execution_count": 10,
   "metadata": {},
   "outputs": [
    {
     "name": "stdout",
     "output_type": "stream",
     "text": [
      "exp lattice contant =   5.6400\n",
      "th  lattice contant =   5.6077\n"
     ]
    }
   ],
   "source": [
    "exp_lattice = 5.64\n",
    "thr_lattice = (8*rocksalt.get_volume()/len(rocksalt))**(1.0/3.0)\n",
    "print('exp lattice contant = {:8.4f}'.format(exp_lattice))\n",
    "print('th  lattice contant = {:8.4f}'.format(thr_lattice))"
   ]
  }
 ],
 "metadata": {
  "kernelspec": {
   "display_name": "Python 3",
   "language": "python",
   "name": "python3"
  },
  "language_info": {
   "codemirror_mode": {
    "name": "ipython",
    "version": 3
   },
   "file_extension": ".py",
   "mimetype": "text/x-python",
   "name": "python",
   "nbconvert_exporter": "python",
   "pygments_lexer": "ipython3",
   "version": "3.8.5"
  }
 },
 "nbformat": 4,
 "nbformat_minor": 4
}
